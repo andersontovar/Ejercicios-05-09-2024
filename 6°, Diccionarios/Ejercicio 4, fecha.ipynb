{
 "cells": [
  {
   "cell_type": "code",
   "execution_count": 69,
   "metadata": {},
   "outputs": [
    {
     "name": "stdout",
     "output_type": "stream",
     "text": [
      "13 de agosto del 2024\n"
     ]
    }
   ],
   "source": [
    "meses = {1:'enero', 2:'febrero', 3:'marzo', 4:'abril', 5:'mayo', 6:'junio', 7:'julio', 8:'agosto', 9:'septiembre', \n",
    "         10:'octubre', 11:'noviembre', 12:'diciembre'} # Meses del año\n",
    "\n",
    "fecha = input('Ingrese una fecha en formato dd/mm/aaaa')\n",
    "\n",
    "'''\n",
    "Divide una cadena y la convierte en una lista de subcadenas, \n",
    "con el delimitador '/' le da la orden de generar una nueva subcadena cada vez que se encuentre con el elemento '/'.\n",
    "'''\n",
    "fecha = fecha.split('/')  \n",
    "mes = int(fecha[1])\n",
    "print(f'{int(fecha[0])} de {meses[mes]} del {int(fecha[2])}') # Convierte las fechas en numeros enteros y accede a ellas con un indice"
   ]
  },
  {
   "cell_type": "code",
   "execution_count": 70,
   "metadata": {},
   "outputs": [
    {
     "name": "stdout",
     "output_type": "stream",
     "text": [
      "13 de August de 2024\n"
     ]
    }
   ],
   "source": [
    "from datetime import datetime\n",
    "\n",
    "fecha = input('Ingrese una fecha en formato dd/mm/aaaa')\n",
    "\n",
    "fecha_datetime = datetime.strptime(fecha, '%d/%m/%Y') # convierte la fecha en un objeto datetime\n",
    "print(f'{fecha_datetime.strftime('%d de %B de %Y')}') # convierte el objeto datetime en una cadena con el formato deseado, arrojando el n° de dia, nombre del mes y n° de año"
   ]
  }
 ],
 "metadata": {
  "kernelspec": {
   "display_name": "Python 3",
   "language": "python",
   "name": "python3"
  },
  "language_info": {
   "codemirror_mode": {
    "name": "ipython",
    "version": 3
   },
   "file_extension": ".py",
   "mimetype": "text/x-python",
   "name": "python",
   "nbconvert_exporter": "python",
   "pygments_lexer": "ipython3",
   "version": "3.12.5"
  }
 },
 "nbformat": 4,
 "nbformat_minor": 2
}
