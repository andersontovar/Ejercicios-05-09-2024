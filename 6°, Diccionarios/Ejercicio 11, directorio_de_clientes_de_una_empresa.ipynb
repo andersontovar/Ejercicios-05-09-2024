{
 "cells": [
  {
   "cell_type": "code",
   "execution_count": 9,
   "metadata": {},
   "outputs": [
    {
     "name": "stdout",
     "output_type": "stream",
     "text": [
      "{'01234567L': {'nombre': 'Luis González', 'email': 'luisgonzalez@mail.com', 'teléfono': '656343576', 'descuento': 12.5}, '71476342J': {'nombre': 'Macarena Ramírez', 'email': 'macarena@mail.com', 'teléfono': '692839321', 'descuento': 8.0}, '63823376M': {'nombre': 'Juan José Martínez', 'email': 'juanjo@mail.com', 'teléfono': '664888233', 'descuento': 5.2}, '98376547F': {'nombre': 'Carmen Sánchez', 'email': 'carmen@mail.com', 'teléfono': '667677855', 'descuento': 15.7}}\n"
     ]
    }
   ],
   "source": [
    "datos_clientes = \"nif;nombre;email;teléfono;descuento\\n01234567L;Luis González;luisgonzalez@mail.com;656343576;12.5\\n71476342J;Macarena Ramírez;macarena@mail.com;692839321;8\\n63823376M;Juan José Martínez;juanjo@mail.com;664888233;5.2\\n98376547F;Carmen Sánchez;carmen@mail.com;667677855;15.7\"\n",
    "\n",
    "directorio = {}\n",
    "\n",
    "lineas = datos_clientes.split('\\n') # Elimina los \\n por espacios\n",
    "lista_parametro = lineas[0].split(';') # Guarda en una variable los nombre de los campos que estan en el primer indice\n",
    "\n",
    "datos = {}\n",
    "for i in lineas[1:]:\n",
    "    lista_info = i.split(';') # Convierte en una lista cada elemento de la lista lineas execto la primera, y cada elemento de cada lista sera convertido a str y sustituye el caracter ; por un espacio.\n",
    "    datos = { # Guarda en un diccionario lista_parametro como clave y lista_info como valor\n",
    "        lista_parametro[1]:lista_info[1],\n",
    "        lista_parametro[2]:lista_info[2],\n",
    "        lista_parametro[3]:lista_info[3],\n",
    "        lista_parametro[4]:float(lista_info[4])\n",
    "    }\n",
    "    directorio.update({lista_info[0]: datos}) # Guarda en un nuevo diccionario el primer elemento de la lista_info como clave y el diccionario datos como valor\n",
    "print(directorio)"
   ]
  }
 ],
 "metadata": {
  "kernelspec": {
   "display_name": "Python 3",
   "language": "python",
   "name": "python3"
  },
  "language_info": {
   "codemirror_mode": {
    "name": "ipython",
    "version": 3
   },
   "file_extension": ".py",
   "mimetype": "text/x-python",
   "name": "python",
   "nbconvert_exporter": "python",
   "pygments_lexer": "ipython3",
   "version": "3.12.5"
  }
 },
 "nbformat": 4,
 "nbformat_minor": 2
}
