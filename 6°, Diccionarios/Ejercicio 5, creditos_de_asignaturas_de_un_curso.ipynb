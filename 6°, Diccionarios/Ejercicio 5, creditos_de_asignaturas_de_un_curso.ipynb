{
 "cells": [
  {
   "cell_type": "code",
   "execution_count": 17,
   "metadata": {},
   "outputs": [
    {
     "name": "stdout",
     "output_type": "stream",
     "text": [
      "Matemáticas tiene 6 creditos\n",
      "Física tiene 4 creditos\n",
      "Química tiene 5 creditos\n",
      "El numero total de creditos es 15\n"
     ]
    }
   ],
   "source": [
    "creditos_de_asignaturas = {'Matemáticas': 6, 'Física': 4, 'Química': 5}\n",
    "\n",
    "for i in creditos_de_asignaturas.keys(): # Itera sobre las claves\n",
    "    print(f'{i} tiene {creditos_de_asignaturas[i]} creditos') # Imprime las claves y las llaves correspondientes\n",
    "\n",
    "contador = 0\n",
    "for i in creditos_de_asignaturas.values(): # Itera sobre los valores\n",
    "    contador += i # Suma todos los valores\n",
    "print(f'El numero total de creditos es {contador}')"
   ]
  }
 ],
 "metadata": {
  "kernelspec": {
   "display_name": "Python 3",
   "language": "python",
   "name": "python3"
  },
  "language_info": {
   "codemirror_mode": {
    "name": "ipython",
    "version": 3
   },
   "file_extension": ".py",
   "mimetype": "text/x-python",
   "name": "python",
   "nbconvert_exporter": "python",
   "pygments_lexer": "ipython3",
   "version": "3.12.5"
  }
 },
 "nbformat": 4,
 "nbformat_minor": 2
}
