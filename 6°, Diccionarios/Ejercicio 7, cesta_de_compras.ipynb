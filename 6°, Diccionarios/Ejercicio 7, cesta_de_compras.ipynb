{
 "cells": [
  {
   "cell_type": "code",
   "execution_count": null,
   "metadata": {},
   "outputs": [],
   "source": [
    "'''\n",
    "Escribir un programa que cree un diccionario simulando una cesta de la compra. El programa debe preguntar el artículo y su precio y añadir el par al diccionario, hasta que el usuario decida terminar. Después se debe mostrar por pantalla la lista de la compra y el coste total, con el siguiente formato\n",
    "\n",
    "Lista de la compra\t\n",
    "Artículo 1\tPrecio\n",
    "Artículo 2\tPrecio\n",
    "Artículo 3\tPrecio\n",
    "…\t…\n",
    "Total\tCoste\n",
    "'''"
   ]
  },
  {
   "cell_type": "code",
   "execution_count": 9,
   "metadata": {},
   "outputs": [
    {
     "name": "stdout",
     "output_type": "stream",
     "text": [
      "Lista de la compra\n",
      "Celular \t 650000.0\n",
      "Televisor \t 1200000.0\n",
      "Computador \t 2000000.0\n",
      "Total de coste 4,000,000.0\n"
     ]
    }
   ],
   "source": [
    "cesta_de_compras = {}\n",
    "\n",
    "while True:\n",
    "    articulo = input('¿Ingrese el articulo que va a comprar?')\n",
    "    precio = float(input('¿Cual es el costo del articulo'))\n",
    "    cesta_de_compras.update({articulo: precio})\n",
    "    limite = input('¿Desea seguir comprando articulos?, SI / NO')\n",
    "    if limite.lower() == 'no':\n",
    "        break\n",
    "print('Lista de la compra')\n",
    "for i in cesta_de_compras:\n",
    "    print(i,'\\t', cesta_de_compras[i])\n",
    "    precio_total = 0\n",
    "    precio_total = precio + cesta_de_compras[i]\n",
    "print(f'Total de coste {precio_total:,}')"
   ]
  }
 ],
 "metadata": {
  "kernelspec": {
   "display_name": "Python 3",
   "language": "python",
   "name": "python3"
  },
  "language_info": {
   "codemirror_mode": {
    "name": "ipython",
    "version": 3
   },
   "file_extension": ".py",
   "mimetype": "text/x-python",
   "name": "python",
   "nbconvert_exporter": "python",
   "pygments_lexer": "ipython3",
   "version": "3.12.5"
  }
 },
 "nbformat": 4,
 "nbformat_minor": 2
}
