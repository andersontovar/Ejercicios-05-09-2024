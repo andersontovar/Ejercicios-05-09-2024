{
 "cells": [
  {
   "cell_type": "code",
   "execution_count": 112,
   "metadata": {},
   "outputs": [
    {
     "name": "stdout",
     "output_type": "stream",
     "text": [
      "['Anderson', 'colombia', 3124696123, 'gmail', 'preferente NO']\n",
      "NIF: 1, nombre: Anderson\n",
      "NIF: 2, nombre: Santiago\n",
      "NIF: 3, nombre: Andres\n",
      "Clientes preferenciales:\n",
      "NIF: 2, nombre: Santiago\n",
      "NIF: 3, nombre: Andres\n"
     ]
    }
   ],
   "source": [
    "base_de_datos_de_clientes = {}\n",
    "\n",
    "while True:\n",
    "    opciones = input('Ingrese el numero de la opcion que desea ejecutar: (1) añadir cliente, (2) eliminar cliente, (3) mostrar cliente, (4) listar todos los clientes, (5) listar clientes preferentes y (6) terminar')\n",
    "\n",
    "    if int(opciones) == 1: # Añade un cliente\n",
    "        nif = int(input('¿Cual es su numero NIF?'))\n",
    "        nombre = input('¿Cual es su nombre?')\n",
    "        direccion = input('¿Donde es su lugar de residencia?')\n",
    "        telefono = int(input('¿Cual es su numero telefonico?'))\n",
    "        correo_electronico = input('Escriba su correo electronico')\n",
    "        preferente = input('Si es preferente: \"mayor de 65 años, mujer embarazada o tiene alguna discapacidad\", ingrese \"SI\", si no lo es ingrese \"NO\".')\n",
    "        datos = [nombre, direccion, telefono, correo_electronico, f'preferente {preferente.upper()}'] # Se crea una lista con los datos del cliente\n",
    "        base_de_datos_de_clientes.update({nif:datos}) # Ingresa el numero NIf como clave y los datos como valor\n",
    "\n",
    "    elif int(opciones) == 2: # Elimina un cliente\n",
    "        while True: # Se ejecuta mientras sea verdadero\n",
    "            nif = int(input('¿Cual es el numero NIF del cliente que desea eliminar?'))\n",
    "            if nif in base_de_datos_de_clientes: \n",
    "                del(base_de_datos_de_clientes[nif]) # Elimina un cliente con su clave\n",
    "                print('El cliente a sido eliminado')\n",
    "                break # Para la ejecucion del condicional\n",
    "            else:\n",
    "                print('El numero NIf ingresado es incorrecto, Vuelve a intentarlo')\n",
    "    \n",
    "    elif int(opciones) == 3: # Muestra los datos de un cliente en especifico\n",
    "        nif = int(input('Escriba el numero NIF del cliente de quien desea ver sus datos'))\n",
    "        print(base_de_datos_de_clientes[nif])\n",
    "\n",
    "    elif int(opciones) == 4: # Muestra el numero NIF de los clientes con sus nombres\n",
    "        for i in base_de_datos_de_clientes: # Itera sobre las claves del diccionario\n",
    "            lista_datos = base_de_datos_de_clientes[i] # Crea una lista para cada cliente con sus datos\n",
    "            print(f'NIF: {i}, nombre: {lista_datos[0]}') # Imprime el numero NIF de cada cliente con su nombre\n",
    "\n",
    "    elif int(opciones) == 5: # Muestra los cloentes preferentes con su NIF y nombre\n",
    "        print(f'Clientes preferenciales:')\n",
    "        for i in base_de_datos_de_clientes:\n",
    "            lista_datos = base_de_datos_de_clientes[i]\n",
    "            clientes_preferentes = lista_datos[-1] # Crea una variable con el ultimo elemento de la lista de datos\n",
    "            if 'SI' in clientes_preferentes: # Si \"SI\" esta en clientes preferentes\n",
    "                print(f'NIF: {i}, nombre: {lista_datos[0]}') # Imprime solo el NIF y el nombre de los clientes preferenciales\n",
    "\n",
    "    elif int(opciones) == 6: # Termina la ejecucion del programa\n",
    "        break\n",
    "    else: \n",
    "        print('Error: el numero ingresado es incorrecto, Vuelve a intentarlo')"
   ]
  },
  {
   "cell_type": "code",
   "execution_count": 113,
   "metadata": {},
   "outputs": [
    {
     "name": "stdout",
     "output_type": "stream",
     "text": [
      "{1: ['Anderson', 'colombia', 3124696123, 'gmail', 'preferente NO'], 2: ['Santiago', 'colombia', 3117438923, 'gmail', 'preferente SI'], 3: ['Andres', 'colombia', 3857214390, 'gmail', 'preferente SI']}\n"
     ]
    }
   ],
   "source": [
    "print(base_de_datos_de_clientes)"
   ]
  }
 ],
 "metadata": {
  "kernelspec": {
   "display_name": "Python 3",
   "language": "python",
   "name": "python3"
  },
  "language_info": {
   "codemirror_mode": {
    "name": "ipython",
    "version": 3
   },
   "file_extension": ".py",
   "mimetype": "text/x-python",
   "name": "python",
   "nbconvert_exporter": "python",
   "pygments_lexer": "ipython3",
   "version": "3.12.5"
  }
 },
 "nbformat": 4,
 "nbformat_minor": 2
}
