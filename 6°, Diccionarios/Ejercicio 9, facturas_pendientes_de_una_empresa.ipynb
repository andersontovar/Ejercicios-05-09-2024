{
 "cells": [
  {
   "cell_type": "code",
   "execution_count": 20,
   "metadata": {},
   "outputs": [
    {
     "name": "stdout",
     "output_type": "stream",
     "text": [
      "La cantidad cobrada es: 5000 y la cantidad pendiente de cobro es: 1000\n"
     ]
    }
   ],
   "source": [
    "facturas = {}\n",
    "pagada = 0\n",
    "\n",
    "while True:\n",
    "    factura = input('¿Si desea añadir una factura \"A\", pagarla \"P\", o terminar \"T\", con la factura?')\n",
    "    if factura.lower() == 'a':\n",
    "        numero_factura = int(input('Escriba el numero de la factura:'))\n",
    "        costo_factura = int(input('¿Cual es el costo de la factura?'))\n",
    "        facturas.update({numero_factura:costo_factura}) # Añade el numero de la factura como clave y el costo de factura como valor\n",
    "    elif factura.lower() == 'p':\n",
    "        numero_factura = int(input('Escriba el numero de la factura:')) \n",
    "        pagada += facturas[numero_factura] # Guarda el numero de la factura pagada en una variable\n",
    "        del(facturas[numero_factura]) # Elimina la factura pagada del diccionario\n",
    "    else:\n",
    "        break\n",
    "print(f'La cantidad cobrada es: {pagada} y la cantidad pendiente de cobro es: {sum(facturas.values())}')"
   ]
  }
 ],
 "metadata": {
  "kernelspec": {
   "display_name": "Python 3",
   "language": "python",
   "name": "python3"
  },
  "language_info": {
   "codemirror_mode": {
    "name": "ipython",
    "version": 3
   },
   "file_extension": ".py",
   "mimetype": "text/x-python",
   "name": "python",
   "nbconvert_exporter": "python",
   "pygments_lexer": "ipython3",
   "version": "3.12.5"
  }
 },
 "nbformat": 4,
 "nbformat_minor": 2
}
