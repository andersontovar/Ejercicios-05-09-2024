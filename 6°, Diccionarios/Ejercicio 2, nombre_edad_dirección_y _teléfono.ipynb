{
 "cells": [
  {
   "cell_type": "code",
   "execution_count": 15,
   "metadata": {},
   "outputs": [
    {
     "name": "stdout",
     "output_type": "stream",
     "text": [
      "Anderson tiene 17 años, vive en cachipay y su número de teléfono es 312 469 6123.\n"
     ]
    }
   ],
   "source": [
    "nombre = input('¿Cual es su nombre?')\n",
    "edad = int(input('¿Cual es su edad?'))\n",
    "direccion = input('¿Cual es su direccion?')\n",
    "telefono = input('Escriba su numero telefonico')\n",
    "\n",
    "informacion = {'nombre':nombre, 'edad':edad, 'direccion':direccion, 'telefono':telefono}\n",
    "print(f'{informacion[\"nombre\"]} tiene {informacion[\"edad\"]} años, vive en {informacion[\"direccion\"]} y su número de teléfono es {informacion['telefono']}.')"
   ]
  }
 ],
 "metadata": {
  "kernelspec": {
   "display_name": "Python 3",
   "language": "python",
   "name": "python3"
  },
  "language_info": {
   "codemirror_mode": {
    "name": "ipython",
    "version": 3
   },
   "file_extension": ".py",
   "mimetype": "text/x-python",
   "name": "python",
   "nbconvert_exporter": "python",
   "pygments_lexer": "ipython3",
   "version": "3.12.5"
  }
 },
 "nbformat": 4,
 "nbformat_minor": 2
}
