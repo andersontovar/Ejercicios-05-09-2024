{
 "cells": [
  {
   "cell_type": "code",
   "execution_count": 28,
   "metadata": {},
   "outputs": [
    {
     "name": "stdout",
     "output_type": "stream",
     "text": [
      "{'nombre': 'Anderson'}\n",
      "{'nombre': 'Anderson', 'apellido': 'Tovar'}\n",
      "{'nombre': 'Anderson', 'apellido': 'Tovar', 'edad': '17'}\n",
      "{'nombre': 'Anderson', 'apellido': 'Tovar', 'edad': '17', 'correo electronico': 'andersonmaracent@gmail.com'}\n",
      "{'nombre': 'Anderson', 'apellido': 'Tovar', 'edad': '17', 'correo electronico': 'andersonmaracent@gmail.com', 'estatura': '1.75'}\n"
     ]
    }
   ],
   "source": [
    "informacion_personal = {}\n",
    "\n",
    "while True:\n",
    "    clave = input('¿Escriba el dato que desea saber?')\n",
    "    valor = input(f'¿Cual es su: {clave}?')\n",
    "    informacion_personal.update({clave: valor})\n",
    "    print(informacion_personal)\n",
    "    limite = input('¿Desea saber otro dato SI / NO?')\n",
    "    if limite.lower() == 'no':\n",
    "        break"
   ]
  }
 ],
 "metadata": {
  "kernelspec": {
   "display_name": "Python 3",
   "language": "python",
   "name": "python3"
  },
  "language_info": {
   "codemirror_mode": {
    "name": "ipython",
    "version": 3
   },
   "file_extension": ".py",
   "mimetype": "text/x-python",
   "name": "python",
   "nbconvert_exporter": "python",
   "pygments_lexer": "ipython3",
   "version": "3.12.5"
  }
 },
 "nbformat": 4,
 "nbformat_minor": 2
}
