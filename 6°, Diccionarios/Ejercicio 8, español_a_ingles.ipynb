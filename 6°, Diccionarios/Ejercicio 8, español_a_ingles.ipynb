{
 "cells": [
  {
   "cell_type": "code",
   "execution_count": 25,
   "metadata": {},
   "outputs": [
    {
     "name": "stdout",
     "output_type": "stream",
     "text": [
      "la house es big "
     ]
    }
   ],
   "source": [
    "traducciones = {}\n",
    "\n",
    "while True: # Se ejucuta el codigo hasta que halla un break\n",
    "    palabra_en_español = input('Ingrese una palabra en español: ')\n",
    "    palabra_en_ingles = input('Ingrese la palabra anterior en ingles: ')\n",
    "    traducciones.update({palabra_en_español: palabra_en_ingles}) # Agrega la palabra en español como clave y la palabra en ingles como valor.\n",
    "    parar = input('¿Desea seguir escribiendo palabras?, SI / NO') # Pregunta si desea seguir añadiendo palabras al diccionario.\n",
    "    if parar.lower() == 'no': # si es no para el codigo\n",
    "        break\n",
    "\n",
    "frase = input('Escriba una frase en español: ')\n",
    "for i in frase.split(): # Convierte las palabras de la cadena en una lista donde cada palabra es un elemento de la lista, e itera sobre ellos.\n",
    "    if i in traducciones: # Si i esta en traducciones convierte la palabra de español a ingles e imprime todo sobre una linea de texto separados por espacios.\n",
    "        print(traducciones[i], end=' ')\n",
    "    else: # Si i no esta en traducciones imprime todas las palabras sin traducir, separadas por espacios.\n",
    "        print(i, end=' ')"
   ]
  }
 ],
 "metadata": {
  "kernelspec": {
   "display_name": "Python 3",
   "language": "python",
   "name": "python3"
  },
  "language_info": {
   "codemirror_mode": {
    "name": "ipython",
    "version": 3
   },
   "file_extension": ".py",
   "mimetype": "text/x-python",
   "name": "python",
   "nbconvert_exporter": "python",
   "pygments_lexer": "ipython3",
   "version": "3.12.5"
  }
 },
 "nbformat": 4,
 "nbformat_minor": 2
}
