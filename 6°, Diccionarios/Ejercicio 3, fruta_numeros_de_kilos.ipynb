{
 "cells": [
  {
   "cell_type": "code",
   "execution_count": 29,
   "metadata": {},
   "outputs": [
    {
     "name": "stdout",
     "output_type": "stream",
     "text": [
      "El precio total por 4.5 kilos de Platano son 6.08 euros\n"
     ]
    }
   ],
   "source": [
    "mercado = {'Platano':1.35, 'Manzana':0.80, 'Pera':0.85, 'Naranja':0.70}\n",
    "fruta = input('¿Cual es la fruta que desea comprar?')\n",
    "numero_kilos = float(input(f'¿Cuantos kilos de {fruta} va a comprar?'))\n",
    "\n",
    "fruta = fruta.capitalize()\n",
    "if fruta not in mercado:\n",
    "    print('La fruta no esta dentro del mercado')\n",
    "else:\n",
    "    precio_total = numero_kilos * mercado[fruta]\n",
    "    print(f'El precio total por {numero_kilos} kilos de {fruta} son {round(precio_total, 2)} euros')"
   ]
  }
 ],
 "metadata": {
  "kernelspec": {
   "display_name": "Python 3",
   "language": "python",
   "name": "python3"
  },
  "language_info": {
   "codemirror_mode": {
    "name": "ipython",
    "version": 3
   },
   "file_extension": ".py",
   "mimetype": "text/x-python",
   "name": "python",
   "nbconvert_exporter": "python",
   "pygments_lexer": "ipython3",
   "version": "3.12.5"
  }
 },
 "nbformat": 4,
 "nbformat_minor": 2
}
