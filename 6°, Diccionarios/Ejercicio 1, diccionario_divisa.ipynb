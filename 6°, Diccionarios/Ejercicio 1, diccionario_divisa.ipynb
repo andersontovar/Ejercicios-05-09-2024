{
 "cells": [
  {
   "cell_type": "code",
   "execution_count": 2,
   "metadata": {},
   "outputs": [
    {
     "name": "stdout",
     "output_type": "stream",
     "text": [
      "El simbolo de la moneda Dollar es: $\n"
     ]
    }
   ],
   "source": [
    "moneda = {'Euro':'€', 'Dollar':'$', 'Yen':'¥'}\n",
    "\n",
    "divisa = input('Ingrese una moneda extranjera')\n",
    "divisa = divisa.capitalize()\n",
    "if divisa in moneda:\n",
    "    print(f'El simbolo de la moneda {divisa} es: {moneda[divisa]}')\n",
    "else:\n",
    "    print(f'La moneda {divisa} no esta en el diccionario')"
   ]
  }
 ],
 "metadata": {
  "kernelspec": {
   "display_name": "Python 3",
   "language": "python",
   "name": "python3"
  },
  "language_info": {
   "codemirror_mode": {
    "name": "ipython",
    "version": 3
   },
   "file_extension": ".py",
   "mimetype": "text/x-python",
   "name": "python",
   "nbconvert_exporter": "python",
   "pygments_lexer": "ipython3",
   "version": "3.12.5"
  }
 },
 "nbformat": 4,
 "nbformat_minor": 2
}
